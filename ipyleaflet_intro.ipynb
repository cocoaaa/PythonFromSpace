{
 "cells": [
  {
   "cell_type": "markdown",
   "metadata": {},
   "source": [
    "# Introduction to `ipyleaflet`\n",
    "Overview: \n",
    "    - Create a map usinng basemaps\n",
    "    - Add a layer to the map using `basemap_to_tiles` method\n",
    "    - Add a layer to the map using external tile services using, `TileLayer(url=<tiles_url>)`"
   ]
  },
  {
   "cell_type": "code",
   "execution_count": null,
   "metadata": {},
   "outputs": [],
   "source": [
    "%load_ext autoreload\n",
    "%autoreload 2"
   ]
  },
  {
   "cell_type": "code",
   "execution_count": 134,
   "metadata": {},
   "outputs": [],
   "source": [
    "# Define an output widget to capture the handler's intermediate printouts\n",
    "import ipywidgets as widgets\n",
    "out = widgets.Output(layout={'border': '1px solid black'})\n",
    "# out"
   ]
  },
  {
   "cell_type": "code",
   "execution_count": 34,
   "metadata": {},
   "outputs": [],
   "source": [
    "import os, json, requests\n",
    "from pathlib import Path\n",
    "# from requests.auth import HTTPBasicAuth\n",
    "\n",
    "import time, datetime\n",
    "\n",
    "import numpy as np\n",
    "import pandas as pd\n",
    "import geopandas as gpd\n",
    "import matplotlib.pyplot as plt \n",
    "import subprocess\n",
    "from shapely.geometry import shape, mapping\n",
    "from planet import api\n",
    "\n",
    "import ipdb\n",
    "from pprint import pprint\n",
    "from IPython.display import JSON, GeoJSON\n",
    "\n",
    "import ipywidgets as widgets\n",
    "from ipyleaflet import * "
   ]
  },
  {
   "cell_type": "code",
   "execution_count": 5,
   "metadata": {},
   "outputs": [],
   "source": [
    "# Define an output widget to capture the handler's intermediate printouts\n",
    "import ipywidgets as widgets\n",
    "out = widgets.Output(layout={'border': '1px solid black'})\n",
    "# out"
   ]
  },
  {
   "cell_type": "code",
   "execution_count": 3,
   "metadata": {},
   "outputs": [],
   "source": [
    "def get_mro(someobj):\n",
    "    mro_tuple = someobj.__class__.__mro__\n",
    "    display(mro_tuple)\n",
    "    return mro_tuple"
   ]
  },
  {
   "cell_type": "markdown",
   "metadata": {},
   "source": [
    "## Create a map"
   ]
  },
  {
   "cell_type": "code",
   "execution_count": 41,
   "metadata": {},
   "outputs": [],
   "source": [
    "# Map Settings \n",
    "# Initial map center in lat/long\n",
    "paris_latlon = [48.864716, 2.349014] \n",
    "jeonju_latlon = [35.8242, 127.1480] \n",
    "naju_latlon = [35.032194, 126.715671]\n",
    "\n",
    "# Initial map zoom level\n",
    "zoom = 15\n",
    "colors = {'blue': \"#009da5\"}\n",
    "\n",
    "# Set Map Tiles URL\n",
    "# tile_layer = TileLayer(url= tiles_url)\n",
    "\n",
    "# Create the map\n",
    "m = Map(\n",
    "    center=naju_latlon, \n",
    "    zoom=zoom,\n",
    ")\n",
    "m.layout={'height': '500px'}\n",
    "# m.add_layer(tile_layer)"
   ]
  },
  {
   "cell_type": "markdown",
   "metadata": {},
   "source": [
    "## Show all basemaps"
   ]
  },
  {
   "cell_type": "code",
   "execution_count": 51,
   "metadata": {},
   "outputs": [
    {
     "name": "stdout",
     "output_type": "stream",
     "text": [
      "Tile Providers:  ['CartoDB', 'Esri', 'HikeBike', 'Hydda', 'MtbMap', 'NASAGIBS', 'OpenMapSurfer', 'OpenStreetMap', 'OpenTopoMap', 'Stamen', 'Strava']\n"
     ]
    }
   ],
   "source": [
    "providers = dir(basemaps)\n",
    "print(\"Tile Providers: \", providers)"
   ]
  },
  {
   "cell_type": "code",
   "execution_count": 21,
   "metadata": {},
   "outputs": [
    {
     "name": "stdout",
     "output_type": "stream",
     "text": [
      "{'url': 'http://c.basemaps.cartocdn.com/dark_all/{z}/{x}/{y}.png', 'max_zoom': 20, 'attribution': '&copy; <a href=\"http://www.openstreetmap.org/copyright\">OpenStreetMap</a> &copy; <a href=\"http://cartodb.com/attributions\">CartoDB</a>', 'name': 'CartoDB.DarkMatter'}\n",
      "{'url': 'http://server.arcgisonline.com/ArcGIS/rest/services/World_Imagery/MapServer/tile/{z}/{y}/{x}', 'max_zoom': 20, 'attribution': 'Tiles &copy; Esri &mdash; Source: Esri, i-cubed, USDA, USGS, AEX, GeoEye, Getmapping, Aerogrid, IGN, IGP, UPR-EGP, and the GIS User Community', 'name': 'Esri.WorldImagery'}\n"
     ]
    }
   ],
   "source": [
    "print(basemaps['CartoDB']['DarkMatter'])\n",
    "print(basemaps['Esri']['WorldImagery'])"
   ]
  },
  {
   "cell_type": "code",
   "execution_count": 35,
   "metadata": {},
   "outputs": [],
   "source": [
    "# Define an output widget to capture the handler's intermediate printouts\n",
    "out = widgets.Output(layout={'border': '1px solid black'})\n",
    "out_marker = widgets.Output(layout={'border': '1px solid black'})\n",
    "\n",
    "# out"
   ]
  },
  {
   "cell_type": "code",
   "execution_count": 101,
   "metadata": {},
   "outputs": [
    {
     "data": {
      "application/vnd.jupyter.widget-view+json": {
       "model_id": "d0213e56f6a5432582bb2959aa4a67ca",
       "version_major": 2,
       "version_minor": 0
      },
      "text/plain": [
       "Output(layout=Layout(border='1px solid black'), outputs=({'name': 'stdout', 'text': '=========================…"
      ]
     },
     "metadata": {},
     "output_type": "display_data"
    },
    {
     "data": {
      "application/vnd.jupyter.widget-view+json": {
       "model_id": "08f75e25d19b4c14bcce20e5b1ee3010",
       "version_major": 2,
       "version_minor": 0
      },
      "text/plain": [
       "Map(basemap={'url': 'https://{s}.tile.openstreetmap.org/{z}/{x}/{y}.png', 'max_zoom': 19, 'attribution': 'Map …"
      ]
     },
     "metadata": {},
     "output_type": "display_data"
    },
    {
     "data": {
      "application/vnd.jupyter.widget-view+json": {
       "model_id": "8b2a56cc308e45378eb32eae6bbdad35",
       "version_major": 2,
       "version_minor": 0
      },
      "text/plain": [
       "Output(layout=Layout(border='1px solid black'))"
      ]
     },
     "metadata": {},
     "output_type": "display_data"
    }
   ],
   "source": [
    "display(out)\n",
    "display(m)\n",
    "display(out_marker)"
   ]
  },
  {
   "cell_type": "code",
   "execution_count": 48,
   "metadata": {},
   "outputs": [],
   "source": [
    "providers = ['CartoDB', 'Esri', 'HikeBike', 'NASAGIBS', 'OpenStreetMap', 'Strava']\n",
    "out.clear_output()\n",
    "with out:\n",
    "    for provider in providers:\n",
    "        print(\"=\"*80)\n",
    "        print(\"Provider: \", provider)\n",
    "        bmaps = basemaps[provider]\n",
    "        for bmap_name, bmap_data in bmaps.items():\n",
    "            print(\"\\t\", bmap_name)\n",
    "            tile_layer = basemap_to_tiles(bmap_data)\n",
    "            m.add_layer(tile_layer)\n",
    "            time.sleep(2)"
   ]
  },
  {
   "cell_type": "markdown",
   "metadata": {},
   "source": [
    "## Set a tile layer\n"
   ]
  },
  {
   "cell_type": "code",
   "execution_count": 114,
   "metadata": {},
   "outputs": [],
   "source": [
    "esri_layer = basemap_to_tiles(basemaps.Esri.WorldImagery)\n",
    "m.clear_layers()\n",
    "m.add_layer(esri_layer)"
   ]
  },
  {
   "cell_type": "markdown",
   "metadata": {},
   "source": [
    "WOOHOO!!"
   ]
  },
  {
   "cell_type": "code",
   "execution_count": 115,
   "metadata": {},
   "outputs": [],
   "source": [
    "# Let's add a market at 금성사\n",
    "marker = Marker(location=m.center, \n",
    "               title=\"금성사\",\n",
    "               rise_on_hover=True) \n",
    "# print(marker)\n",
    "# get_mro(marker); # Marker "
   ]
  },
  {
   "cell_type": "code",
   "execution_count": 116,
   "metadata": {},
   "outputs": [],
   "source": [
    "marker_cb_count = 0\n",
    "out_marker.clear_output()\n",
    "@out_marker.capture()\n",
    "def marker_cb(*args, **kwargs):\n",
    "    global marker_cb_count \n",
    "    marker_cb_count += 1\n",
    "    print('marker handler called: ', marker_cb_count)\n",
    "#     print('args: ', args)\n",
    "    pprint(kwargs)\n",
    "    \n",
    "# add the handler to the marker object\n",
    "marker.on_move(marker_cb)"
   ]
  },
  {
   "cell_type": "markdown",
   "metadata": {},
   "source": [
    "Marker is a subclass of Layer, so we can use `add_layer` method to add this to the map instance"
   ]
  },
  {
   "cell_type": "code",
   "execution_count": 117,
   "metadata": {},
   "outputs": [
    {
     "name": "stdout",
     "output_type": "stream",
     "text": [
      "True\n"
     ]
    }
   ],
   "source": [
    "m.add_layer(marker) #Voila!\n",
    "# we can check the membership\n",
    "print(marker in m.layers)"
   ]
  },
  {
   "cell_type": "code",
   "execution_count": 118,
   "metadata": {},
   "outputs": [
    {
     "data": {
      "application/vnd.jupyter.widget-view+json": {
       "model_id": "a69612b110964fbca711eb1de805d822",
       "version_major": 2,
       "version_minor": 0
      },
      "text/plain": [
       "Box(children=(FloatSlider(value=1.0, description='opacity', max=1.0, step=0.01),))"
      ]
     },
     "metadata": {},
     "output_type": "display_data"
    }
   ],
   "source": [
    "# we can change the style of the marker \n",
    "marker.interact(opacity=(0,1,0.01))"
   ]
  },
  {
   "cell_type": "markdown",
   "metadata": {},
   "source": [
    "## Remove layer\n",
    "When a layer object is added to a map, the layer is assigned a `model.id` attribute. \n",
    "Using this information, `remove_layer` method can accept a layer object and remove the object from the map.\n"
   ]
  },
  {
   "cell_type": "code",
   "execution_count": null,
   "metadata": {},
   "outputs": [],
   "source": [
    "m.remove_layer(marker)"
   ]
  },
  {
   "cell_type": "markdown",
   "metadata": {},
   "source": [
    "Alternatively, we can remove a layer by getting a layer object at a specific added order\n"
   ]
  },
  {
   "cell_type": "code",
   "execution_count": 82,
   "metadata": {},
   "outputs": [],
   "source": [
    "m.remove_layer(m.layers[-1])#remove the last layer (ie. the top-most layer)"
   ]
  },
  {
   "cell_type": "code",
   "execution_count": null,
   "metadata": {},
   "outputs": [],
   "source": []
  }
 ],
 "metadata": {
  "kernelspec": {
   "display_name": "Python 3",
   "language": "python",
   "name": "python3"
  },
  "language_info": {
   "codemirror_mode": {
    "name": "ipython",
    "version": 3
   },
   "file_extension": ".py",
   "mimetype": "text/x-python",
   "name": "python",
   "nbconvert_exporter": "python",
   "pygments_lexer": "ipython3",
   "version": "3.6.7"
  }
 },
 "nbformat": 4,
 "nbformat_minor": 2
}
